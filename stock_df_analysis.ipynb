{
    "cells": [
        {
            "cell_type": "code",
            "execution_count": 38,
            "source": [
                "import pandas as pd\r\n",
                "import numpy as np\r\n",
                "import yfinance as yf\r\n",
                "import datetime as dt\r\n",
                "from pandas_datareader import data as pdr\r\n",
                "from ta.trend import SMAIndicator\r\n",
                "\r\n",
                "yf.pdr_override ()\r\n",
                "\r\n",
                "#stock = input (\"Enter a stock ticker symbol: \")\r\n",
                "stock = \"AMD\"\r\n",
                "\r\n",
                "#start = dt.datetime (2019, 1, 1)\r\n",
                "#end = dt.datetime (2020, 1, 1)\r\n",
                "\r\n",
                "start = dt.datetime.now() - dt.timedelta(days=300)\r\n",
                "end = dt.datetime.now()\r\n",
                "\r\n",
                "print(end)\r\n",
                "df = pdr.get_data_yahoo (stock, start, end)\r\n"
            ],
            "outputs": [
                {
                    "output_type": "stream",
                    "name": "stdout",
                    "text": [
                        "2021-08-05 12:13:45.462022\n",
                        "[*********************100%***********************]  1 of 1 completed\n"
                    ]
                }
            ],
            "metadata": {}
        },
        {
            "cell_type": "code",
            "execution_count": 34,
            "source": [
                "def get_avwap (df):\r\n",
                "    df['avg price vol'] = ((df['High'] + df['Low'] + df['Adj Close'])/3) * df['Volume']\r\n",
                "    df['avg price vol cum sum'] = df['avg price vol'].cumsum()\r\n",
                "    df['vol cum sum'] = df['Volume'].cumsum()\r\n",
                "    df['AWVAP'] = df['avg price vol cum sum'] / df['vol cum sum']\r\n",
                "    return df.tail(1).iloc[0]['AWVAP']"
            ],
            "outputs": [],
            "metadata": {}
        },
        {
            "cell_type": "code",
            "execution_count": 42,
            "source": [
                "from datetime import date"
            ],
            "outputs": [],
            "metadata": {}
        },
        {
            "cell_type": "code",
            "execution_count": 56,
            "source": [
                "high_rec = df[df['High']==df['High'].max()] \r\n",
                "high_date = high_rec.index[0]   \r\n",
                "delta = pd.Timestamp.today() - high_date\r\n",
                "\r\n",
                "if delta.days < 6:\r\n",
                "    print(delta.days)\r\n",
                "\r\n"
            ],
            "outputs": [
                {
                    "output_type": "stream",
                    "name": "stdout",
                    "text": [
                        "1\n"
                    ]
                }
            ],
            "metadata": {}
        },
        {
            "cell_type": "code",
            "execution_count": 19,
            "source": [
                "high_date = rec.index[0]\r\n",
                "df.loc[high_date]['High']\r\n"
            ],
            "outputs": [
                {
                    "output_type": "execute_result",
                    "data": {
                        "text/plain": [
                            "588.8400268554688"
                        ]
                    },
                    "metadata": {},
                    "execution_count": 19
                }
            ],
            "metadata": {}
        }
    ],
    "metadata": {
        "orig_nbformat": 4,
        "language_info": {
            "name": "python",
            "version": "3.8.10",
            "mimetype": "text/x-python",
            "codemirror_mode": {
                "name": "ipython",
                "version": 3
            },
            "pygments_lexer": "ipython3",
            "nbconvert_exporter": "python",
            "file_extension": ".py"
        },
        "kernelspec": {
            "name": "python3",
            "display_name": "Python 3.8.10 64-bit (windows store)"
        },
        "interpreter": {
            "hash": "459d6c7526ac08f95b92b302a273313635d36f46473c0aa56ea7ae9218b88538"
        }
    },
    "nbformat": 4,
    "nbformat_minor": 2
}