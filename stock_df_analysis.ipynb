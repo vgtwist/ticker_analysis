{
    "cells": [
        {
            "cell_type": "code",
            "execution_count": 2,
            "source": [
                "import pandas as pd\r\n",
                "import numpy as np\r\n",
                "import yfinance as yf\r\n",
                "import datetime as dt\r\n",
                "from pandas_datareader import data as pdr\r\n",
                "from ta.trend import SMAIndicator\r\n",
                "\r\n",
                "yf.pdr_override ()\r\n",
                "\r\n",
                "#stock = input (\"Enter a stock ticker symbol: \")\r\n",
                "stock = \"AMD\"\r\n",
                "\r\n",
                "#start = dt.datetime (2019, 1, 1)\r\n",
                "#end = dt.datetime (2020, 1, 1)\r\n",
                "\r\n",
                "start = dt.datetime.now() - dt.timedelta(days=300)\r\n",
                "end = dt.datetime.now()\r\n",
                "\r\n",
                "print(end)\r\n",
                "df = pdr.get_data_yahoo (stock, start, end)\r\n"
            ],
            "outputs": [
                {
                    "output_type": "stream",
                    "name": "stdout",
                    "text": [
                        "2021-09-02 11:25:47.776080\n",
                        "[*********************100%***********************]  1 of 1 completed\n"
                    ]
                }
            ],
            "metadata": {}
        },
        {
            "cell_type": "code",
            "execution_count": 34,
            "source": [
                "def get_avwap (df):\r\n",
                "    df['avg price vol'] = ((df['High'] + df['Low'] + df['Adj Close'])/3) * df['Volume']\r\n",
                "    df['avg price vol cum sum'] = df['avg price vol'].cumsum()\r\n",
                "    df['vol cum sum'] = df['Volume'].cumsum()\r\n",
                "    df['AWVAP'] = df['avg price vol cum sum'] / df['vol cum sum']\r\n",
                "    return df.tail(1).iloc[0]['AWVAP']"
            ],
            "outputs": [],
            "metadata": {}
        },
        {
            "cell_type": "code",
            "execution_count": 42,
            "source": [
                "from datetime import date"
            ],
            "outputs": [],
            "metadata": {}
        },
        {
            "cell_type": "code",
            "execution_count": 56,
            "source": [
                "high_rec = df[df['High']==df['High'].max()] \r\n",
                "high_date = high_rec.index[0]   \r\n",
                "delta = pd.Timestamp.today() - high_date\r\n",
                "\r\n",
                "if delta.days < 6:\r\n",
                "    print(delta.days)\r\n",
                "\r\n"
            ],
            "outputs": [
                {
                    "output_type": "stream",
                    "name": "stdout",
                    "text": [
                        "1\n"
                    ]
                }
            ],
            "metadata": {}
        },
        {
            "cell_type": "code",
            "execution_count": 16,
            "source": [
                "\r\n",
                "df"
            ],
            "outputs": [
                {
                    "output_type": "execute_result",
                    "data": {
                        "text/plain": [
                            "                  Open        High         Low       Close   Adj Close  \\\n",
                            "Date                                                                     \n",
                            "2020-11-06   83.519997   86.089996   82.669998   85.879997   85.879997   \n",
                            "2020-11-09   84.239998   87.050003   82.769997   83.120003   83.120003   \n",
                            "2020-11-10   81.930000   82.129997   77.629997   77.989998   77.989998   \n",
                            "2020-11-11   79.389999   81.470001   78.970001   81.279999   81.279999   \n",
                            "2020-11-12   81.320000   83.000000   80.300003   81.839996   81.839996   \n",
                            "...                ...         ...         ...         ...         ...   \n",
                            "2021-08-27  108.010002  111.779999  107.800003  111.400002  111.400002   \n",
                            "2021-08-30  112.610001  114.489998  111.260002  111.320000  111.320000   \n",
                            "2021-08-31  111.260002  111.260002  109.029999  110.720001  110.720001   \n",
                            "2021-09-01  111.300003  111.849998  109.849998  109.989998  109.989998   \n",
                            "2021-09-02  110.320000  110.879997  108.769997  110.169899  110.169899   \n",
                            "\n",
                            "              Volume  Closing Range  \n",
                            "Date                                 \n",
                            "2020-11-06  53829900       0.938597  \n",
                            "2020-11-09  58580700       0.081777  \n",
                            "2020-11-10  67137200       0.080000  \n",
                            "2020-11-11  44611300       0.923999  \n",
                            "2020-11-12  37242600       0.570369  \n",
                            "...              ...            ...  \n",
                            "2021-08-27  60970800       0.904523  \n",
                            "2021-08-30  56130500       0.018575  \n",
                            "2021-08-31  49339000       0.757847  \n",
                            "2021-09-01  38534200       0.070000  \n",
                            "2021-09-02  25467925       0.663461  \n",
                            "\n",
                            "[207 rows x 7 columns]"
                        ],
                        "text/html": [
                            "<div>\n",
                            "<style scoped>\n",
                            "    .dataframe tbody tr th:only-of-type {\n",
                            "        vertical-align: middle;\n",
                            "    }\n",
                            "\n",
                            "    .dataframe tbody tr th {\n",
                            "        vertical-align: top;\n",
                            "    }\n",
                            "\n",
                            "    .dataframe thead th {\n",
                            "        text-align: right;\n",
                            "    }\n",
                            "</style>\n",
                            "<table border=\"1\" class=\"dataframe\">\n",
                            "  <thead>\n",
                            "    <tr style=\"text-align: right;\">\n",
                            "      <th></th>\n",
                            "      <th>Open</th>\n",
                            "      <th>High</th>\n",
                            "      <th>Low</th>\n",
                            "      <th>Close</th>\n",
                            "      <th>Adj Close</th>\n",
                            "      <th>Volume</th>\n",
                            "      <th>Closing Range</th>\n",
                            "    </tr>\n",
                            "    <tr>\n",
                            "      <th>Date</th>\n",
                            "      <th></th>\n",
                            "      <th></th>\n",
                            "      <th></th>\n",
                            "      <th></th>\n",
                            "      <th></th>\n",
                            "      <th></th>\n",
                            "      <th></th>\n",
                            "    </tr>\n",
                            "  </thead>\n",
                            "  <tbody>\n",
                            "    <tr>\n",
                            "      <th>2020-11-06</th>\n",
                            "      <td>83.519997</td>\n",
                            "      <td>86.089996</td>\n",
                            "      <td>82.669998</td>\n",
                            "      <td>85.879997</td>\n",
                            "      <td>85.879997</td>\n",
                            "      <td>53829900</td>\n",
                            "      <td>0.938597</td>\n",
                            "    </tr>\n",
                            "    <tr>\n",
                            "      <th>2020-11-09</th>\n",
                            "      <td>84.239998</td>\n",
                            "      <td>87.050003</td>\n",
                            "      <td>82.769997</td>\n",
                            "      <td>83.120003</td>\n",
                            "      <td>83.120003</td>\n",
                            "      <td>58580700</td>\n",
                            "      <td>0.081777</td>\n",
                            "    </tr>\n",
                            "    <tr>\n",
                            "      <th>2020-11-10</th>\n",
                            "      <td>81.930000</td>\n",
                            "      <td>82.129997</td>\n",
                            "      <td>77.629997</td>\n",
                            "      <td>77.989998</td>\n",
                            "      <td>77.989998</td>\n",
                            "      <td>67137200</td>\n",
                            "      <td>0.080000</td>\n",
                            "    </tr>\n",
                            "    <tr>\n",
                            "      <th>2020-11-11</th>\n",
                            "      <td>79.389999</td>\n",
                            "      <td>81.470001</td>\n",
                            "      <td>78.970001</td>\n",
                            "      <td>81.279999</td>\n",
                            "      <td>81.279999</td>\n",
                            "      <td>44611300</td>\n",
                            "      <td>0.923999</td>\n",
                            "    </tr>\n",
                            "    <tr>\n",
                            "      <th>2020-11-12</th>\n",
                            "      <td>81.320000</td>\n",
                            "      <td>83.000000</td>\n",
                            "      <td>80.300003</td>\n",
                            "      <td>81.839996</td>\n",
                            "      <td>81.839996</td>\n",
                            "      <td>37242600</td>\n",
                            "      <td>0.570369</td>\n",
                            "    </tr>\n",
                            "    <tr>\n",
                            "      <th>...</th>\n",
                            "      <td>...</td>\n",
                            "      <td>...</td>\n",
                            "      <td>...</td>\n",
                            "      <td>...</td>\n",
                            "      <td>...</td>\n",
                            "      <td>...</td>\n",
                            "      <td>...</td>\n",
                            "    </tr>\n",
                            "    <tr>\n",
                            "      <th>2021-08-27</th>\n",
                            "      <td>108.010002</td>\n",
                            "      <td>111.779999</td>\n",
                            "      <td>107.800003</td>\n",
                            "      <td>111.400002</td>\n",
                            "      <td>111.400002</td>\n",
                            "      <td>60970800</td>\n",
                            "      <td>0.904523</td>\n",
                            "    </tr>\n",
                            "    <tr>\n",
                            "      <th>2021-08-30</th>\n",
                            "      <td>112.610001</td>\n",
                            "      <td>114.489998</td>\n",
                            "      <td>111.260002</td>\n",
                            "      <td>111.320000</td>\n",
                            "      <td>111.320000</td>\n",
                            "      <td>56130500</td>\n",
                            "      <td>0.018575</td>\n",
                            "    </tr>\n",
                            "    <tr>\n",
                            "      <th>2021-08-31</th>\n",
                            "      <td>111.260002</td>\n",
                            "      <td>111.260002</td>\n",
                            "      <td>109.029999</td>\n",
                            "      <td>110.720001</td>\n",
                            "      <td>110.720001</td>\n",
                            "      <td>49339000</td>\n",
                            "      <td>0.757847</td>\n",
                            "    </tr>\n",
                            "    <tr>\n",
                            "      <th>2021-09-01</th>\n",
                            "      <td>111.300003</td>\n",
                            "      <td>111.849998</td>\n",
                            "      <td>109.849998</td>\n",
                            "      <td>109.989998</td>\n",
                            "      <td>109.989998</td>\n",
                            "      <td>38534200</td>\n",
                            "      <td>0.070000</td>\n",
                            "    </tr>\n",
                            "    <tr>\n",
                            "      <th>2021-09-02</th>\n",
                            "      <td>110.320000</td>\n",
                            "      <td>110.879997</td>\n",
                            "      <td>108.769997</td>\n",
                            "      <td>110.169899</td>\n",
                            "      <td>110.169899</td>\n",
                            "      <td>25467925</td>\n",
                            "      <td>0.663461</td>\n",
                            "    </tr>\n",
                            "  </tbody>\n",
                            "</table>\n",
                            "<p>207 rows × 7 columns</p>\n",
                            "</div>"
                        ]
                    },
                    "metadata": {},
                    "execution_count": 16
                }
            ],
            "metadata": {}
        },
        {
            "cell_type": "code",
            "execution_count": 15,
            "source": [
                "df[\"Closing Range\"].round(2)"
            ],
            "outputs": [
                {
                    "output_type": "execute_result",
                    "data": {
                        "text/plain": [
                            "Date\n",
                            "2020-11-06    0.94\n",
                            "2020-11-09    0.08\n",
                            "2020-11-10    0.08\n",
                            "2020-11-11    0.92\n",
                            "2020-11-12    0.57\n",
                            "              ... \n",
                            "2021-08-27    0.90\n",
                            "2021-08-30    0.02\n",
                            "2021-08-31    0.76\n",
                            "2021-09-01    0.07\n",
                            "2021-09-02    0.66\n",
                            "Name: Closing Range, Length: 207, dtype: float64"
                        ]
                    },
                    "metadata": {},
                    "execution_count": 15
                }
            ],
            "metadata": {}
        }
    ],
    "metadata": {
        "orig_nbformat": 4,
        "language_info": {
            "name": "python",
            "version": "3.8.10",
            "mimetype": "text/x-python",
            "codemirror_mode": {
                "name": "ipython",
                "version": 3
            },
            "pygments_lexer": "ipython3",
            "nbconvert_exporter": "python",
            "file_extension": ".py"
        },
        "kernelspec": {
            "name": "python3",
            "display_name": "Python 3.8.10 64-bit (windows store)"
        },
        "interpreter": {
            "hash": "459d6c7526ac08f95b92b302a273313635d36f46473c0aa56ea7ae9218b88538"
        }
    },
    "nbformat": 4,
    "nbformat_minor": 2
}