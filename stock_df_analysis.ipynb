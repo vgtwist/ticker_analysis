{
    "cells": [
        {
            "cell_type": "code",
            "execution_count": 85,
            "source": [
                "from pandas_datareader import data as pdr\r\n",
                "from ta.volatility import BollingerBands\r\n",
                "from ta.trend import SMAIndicator\r\n",
                "import yfinance as yf\r\n",
                "import datetime as dt\r\n",
                "\r\n",
                "yf.pdr_override ()\r\n",
                "\r\n",
                "def get_ticker_df (stock, start = dt.datetime.now() - dt.timedelta(days=300), end = dt.datetime.now()):\r\n",
                "    #stock = input (\"Enter a stock ticker symbol: \")\r\n",
                "    #stock = \"TSLA\"\r\n",
                "\r\n",
                "    #start = dt.datetime (2019, 1, 1)\r\n",
                "    #end = dt.datetime (2020, 1, 1)\r\n",
                "\r\n",
                "    RECENT_HIGH_DAYS = 6\r\n",
                "\r\n",
                "    df = pdr.get_data_yahoo (stock, start, end)\r\n",
                "\r\n",
                "    # Fill in SMA\r\n",
                "\r\n",
                "    col_name = \"Adj Close\"\r\n",
                "\r\n",
                "    indicator_sma = SMAIndicator(close=df[col_name], window=5, fillna=True)\r\n",
                "\r\n",
                "    df[\"SMA_5\"] = indicator_sma.sma_indicator()\r\n",
                "\r\n",
                "\r\n",
                "    indicator_sma = SMAIndicator(close=df[col_name], window=20, fillna=True)\r\n",
                "\r\n",
                "    df[\"SMA_20\"] = indicator_sma.sma_indicator()\r\n",
                "\r\n",
                "\r\n",
                "    indicator_sma = SMAIndicator(close=df[col_name], window=50, fillna=True)\r\n",
                "\r\n",
                "    df[\"SMA_50\"] = indicator_sma.sma_indicator()\r\n",
                "\r\n",
                "    indicator_sma = SMAIndicator(close=df[col_name], window=150, fillna=True)\r\n",
                "\r\n",
                "    df[\"SMA_150\"] = indicator_sma.sma_indicator()\r\n",
                "\r\n",
                "    indicator_sma = SMAIndicator(close=df[col_name], window=200, fillna=True)\r\n",
                "\r\n",
                "    df[\"SMA_200\"] = indicator_sma.sma_indicator()\r\n",
                "\r\n",
                "    #indicator_sma = SMAIndicator(close=df[\"Volume\"], window=20, fillna=True)\r\n",
                "\r\n",
                "    #df[\"Volume_SMA_20\"] = indicator_sma.sma_indicator()\r\n",
                "\r\n",
                "    df[\"Volume_SMA_20\"] = df.rolling(window=20)['Volume'].mean()\r\n",
                "\r\n",
                "    df[\"RVolume\"] = df[\"Volume\"] / df[\"Volume_SMA_20\"]\r\n",
                "\r\n",
                "    df[\"Closing Range\"] = (df[\"Adj Close\"] - df[\"Low\"]) / (df[\"High\"] - df[\"Low\"]) \r\n",
                "\r\n",
                "    indicator_bb = BollingerBands(close=df[\"Adj Close\"], window=15, window_dev=2)\r\n",
                "\r\n",
                "    # Add Bollinger Bands features\r\n",
                "    df['BB High'] = indicator_bb.bollinger_hband()\r\n",
                "    df['BB Low'] = indicator_bb.bollinger_lband()\r\n",
                "\r\n",
                "    #Previous Row data\r\n",
                "\r\n",
                "    df['Prior Volume Change'] = round((df['Volume'] - df['Volume'].shift(1))/df['Volume'].shift(1), 2)\r\n",
                "\r\n",
                "    high_vol = df[\"RVolume\"] > 1.2\r\n",
                "    high_dcr = df[\"Closing Range\"] > .6\r\n",
                "    low_dcr = df[\"Closing Range\"] < .3\r\n",
                "    high_prior_vol = df['Prior Volume Change'] > 0\r\n",
                "\r\n",
                "    df[\"DCR Flag\"] = 0\r\n",
                "    \r\n",
                "    df.loc[high_dcr, \"DCR Flag\"] = 1 \r\n",
                "    df.loc[low_dcr, \"DCR Flag\"] = -1\r\n",
                "    \r\n",
                "    df[\"AccDist Flag\"] = 0 \r\n",
                "    df.loc[(high_vol | high_prior_vol) & high_dcr, \"AccDist Flag\"] = 1 \r\n",
                "    df.loc[(high_vol | high_prior_vol) & low_dcr, \"AccDist Flag\"] = -1 \r\n",
                "\r\n",
                "    return df\r\n"
            ],
            "outputs": [],
            "metadata": {}
        },
        {
            "cell_type": "code",
            "execution_count": 55,
            "source": [
                "df_all = get_ticker_df(\"DOCN\")\r\n",
                "df = df_all.tail(1)\r\n",
                "df"
            ],
            "outputs": [
                {
                    "output_type": "stream",
                    "name": "stdout",
                    "text": [
                        "[*********************100%***********************]  1 of 1 completed\n"
                    ]
                },
                {
                    "output_type": "execute_result",
                    "data": {
                        "text/html": [
                            "<div>\n",
                            "<style scoped>\n",
                            "    .dataframe tbody tr th:only-of-type {\n",
                            "        vertical-align: middle;\n",
                            "    }\n",
                            "\n",
                            "    .dataframe tbody tr th {\n",
                            "        vertical-align: top;\n",
                            "    }\n",
                            "\n",
                            "    .dataframe thead th {\n",
                            "        text-align: right;\n",
                            "    }\n",
                            "</style>\n",
                            "<table border=\"1\" class=\"dataframe\">\n",
                            "  <thead>\n",
                            "    <tr style=\"text-align: right;\">\n",
                            "      <th></th>\n",
                            "      <th>Open</th>\n",
                            "      <th>High</th>\n",
                            "      <th>Low</th>\n",
                            "      <th>Close</th>\n",
                            "      <th>Adj Close</th>\n",
                            "      <th>Volume</th>\n",
                            "      <th>SMA_5</th>\n",
                            "      <th>SMA_20</th>\n",
                            "      <th>SMA_50</th>\n",
                            "      <th>SMA_150</th>\n",
                            "      <th>SMA_200</th>\n",
                            "      <th>Volume_SMA_20</th>\n",
                            "      <th>RVolume</th>\n",
                            "      <th>Closing Range</th>\n",
                            "      <th>BB High</th>\n",
                            "      <th>BB Low</th>\n",
                            "      <th>AccDist</th>\n",
                            "    </tr>\n",
                            "    <tr>\n",
                            "      <th>Date</th>\n",
                            "      <th></th>\n",
                            "      <th></th>\n",
                            "      <th></th>\n",
                            "      <th></th>\n",
                            "      <th></th>\n",
                            "      <th></th>\n",
                            "      <th></th>\n",
                            "      <th></th>\n",
                            "      <th></th>\n",
                            "      <th></th>\n",
                            "      <th></th>\n",
                            "      <th></th>\n",
                            "      <th></th>\n",
                            "      <th></th>\n",
                            "      <th></th>\n",
                            "      <th></th>\n",
                            "      <th></th>\n",
                            "    </tr>\n",
                            "  </thead>\n",
                            "  <tbody>\n",
                            "    <tr>\n",
                            "      <th>2021-10-18</th>\n",
                            "      <td>89.0</td>\n",
                            "      <td>92.459999</td>\n",
                            "      <td>88.889999</td>\n",
                            "      <td>91.660004</td>\n",
                            "      <td>91.660004</td>\n",
                            "      <td>928597</td>\n",
                            "      <td>89.616</td>\n",
                            "      <td>83.604</td>\n",
                            "      <td>71.5002</td>\n",
                            "      <td>54.803655</td>\n",
                            "      <td>54.803655</td>\n",
                            "      <td>1877409.85</td>\n",
                            "      <td>0.494616</td>\n",
                            "      <td>0.775912</td>\n",
                            "      <td>93.476186</td>\n",
                            "      <td>73.951814</td>\n",
                            "      <td>NaN</td>\n",
                            "    </tr>\n",
                            "  </tbody>\n",
                            "</table>\n",
                            "</div>"
                        ],
                        "text/plain": [
                            "            Open       High        Low      Close  Adj Close  Volume   SMA_5  \\\n",
                            "Date                                                                           \n",
                            "2021-10-18  89.0  92.459999  88.889999  91.660004  91.660004  928597  89.616   \n",
                            "\n",
                            "            SMA_20   SMA_50    SMA_150    SMA_200  Volume_SMA_20   RVolume  \\\n",
                            "Date                                                                         \n",
                            "2021-10-18  83.604  71.5002  54.803655  54.803655     1877409.85  0.494616   \n",
                            "\n",
                            "            Closing Range    BB High     BB Low AccDist  \n",
                            "Date                                                     \n",
                            "2021-10-18       0.775912  93.476186  73.951814     NaN  "
                        ]
                    },
                    "metadata": {},
                    "execution_count": 55
                }
            ],
            "metadata": {}
        },
        {
            "cell_type": "code",
            "execution_count": 96,
            "source": [
                "start_date = dt.datetime.strptime(\"20210910\", \"%Y%m%d\")\r\n",
                "end_date = dt.datetime.strptime(\"20211021\", \"%Y%m%d\")\r\n",
                "base_df = get_ticker_df(\"SQ\", start = start_date, end = end_date)"
            ],
            "outputs": [
                {
                    "output_type": "stream",
                    "name": "stdout",
                    "text": [
                        "[*********************100%***********************]  1 of 1 completed\n"
                    ]
                }
            ],
            "metadata": {}
        },
        {
            "cell_type": "code",
            "execution_count": 97,
            "source": [
                "base_df[\"AccDist Flag\"].tail(10)"
            ],
            "outputs": [
                {
                    "output_type": "execute_result",
                    "data": {
                        "text/plain": [
                            "Date\n",
                            "2021-10-07    1\n",
                            "2021-10-08    0\n",
                            "2021-10-11    0\n",
                            "2021-10-12    0\n",
                            "2021-10-13    0\n",
                            "2021-10-14   -1\n",
                            "2021-10-15    0\n",
                            "2021-10-18    1\n",
                            "2021-10-19    0\n",
                            "2021-10-20    0\n",
                            "Name: AccDist Flag, dtype: int64"
                        ]
                    },
                    "metadata": {},
                    "execution_count": 97
                }
            ],
            "metadata": {}
        }
    ],
    "metadata": {
        "orig_nbformat": 4,
        "language_info": {
            "name": "python",
            "version": "3.8.10",
            "mimetype": "text/x-python",
            "codemirror_mode": {
                "name": "ipython",
                "version": 3
            },
            "pygments_lexer": "ipython3",
            "nbconvert_exporter": "python",
            "file_extension": ".py"
        },
        "kernelspec": {
            "name": "python3",
            "display_name": "Python 3.8.10 64-bit (windows store)"
        },
        "interpreter": {
            "hash": "459d6c7526ac08f95b92b302a273313635d36f46473c0aa56ea7ae9218b88538"
        }
    },
    "nbformat": 4,
    "nbformat_minor": 2
}