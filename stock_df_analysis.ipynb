{
    "cells": [
        {
            "cell_type": "code",
            "execution_count": 2,
            "source": [
                "import pandas as pd\r\n",
                "import numpy as np\r\n",
                "import yfinance as yf\r\n",
                "import datetime as dt\r\n",
                "from pandas_datareader import data as pdr\r\n",
                "from ta.trend import SMAIndicator\r\n",
                "\r\n",
                "yf.pdr_override ()\r\n",
                "\r\n",
                "#stock = input (\"Enter a stock ticker symbol: \")\r\n",
                "stock = \"ZM\"\r\n",
                "\r\n",
                "#start = dt.datetime (2019, 1, 1)\r\n",
                "#end = dt.datetime (2020, 1, 1)\r\n",
                "\r\n",
                "start = dt.datetime.now() - dt.timedelta(days=300)\r\n",
                "end = dt.datetime.now()\r\n",
                "\r\n",
                "print(end)\r\n",
                "df = pdr.get_data_yahoo (stock, start, end)\r\n"
            ],
            "outputs": [
                {
                    "output_type": "stream",
                    "name": "stdout",
                    "text": [
                        "2021-07-29 13:40:07.056638\n",
                        "[*********************100%***********************]  1 of 1 completed\n"
                    ]
                }
            ],
            "metadata": {}
        },
        {
            "cell_type": "code",
            "execution_count": 16,
            "source": [
                "rec = df[df['High']==df['High'].max()]\r\n",
                "rec"
            ],
            "outputs": [
                {
                    "output_type": "execute_result",
                    "data": {
                        "text/plain": [
                            "             Open        High         Low       Close   Adj Close    Volume\n",
                            "Date                                                                       \n",
                            "2020-10-19  572.5  588.840027  562.549988  568.340027  568.340027  15193200"
                        ],
                        "text/html": [
                            "<div>\n",
                            "<style scoped>\n",
                            "    .dataframe tbody tr th:only-of-type {\n",
                            "        vertical-align: middle;\n",
                            "    }\n",
                            "\n",
                            "    .dataframe tbody tr th {\n",
                            "        vertical-align: top;\n",
                            "    }\n",
                            "\n",
                            "    .dataframe thead th {\n",
                            "        text-align: right;\n",
                            "    }\n",
                            "</style>\n",
                            "<table border=\"1\" class=\"dataframe\">\n",
                            "  <thead>\n",
                            "    <tr style=\"text-align: right;\">\n",
                            "      <th></th>\n",
                            "      <th>Open</th>\n",
                            "      <th>High</th>\n",
                            "      <th>Low</th>\n",
                            "      <th>Close</th>\n",
                            "      <th>Adj Close</th>\n",
                            "      <th>Volume</th>\n",
                            "    </tr>\n",
                            "    <tr>\n",
                            "      <th>Date</th>\n",
                            "      <th></th>\n",
                            "      <th></th>\n",
                            "      <th></th>\n",
                            "      <th></th>\n",
                            "      <th></th>\n",
                            "      <th></th>\n",
                            "    </tr>\n",
                            "  </thead>\n",
                            "  <tbody>\n",
                            "    <tr>\n",
                            "      <th>2020-10-19</th>\n",
                            "      <td>572.5</td>\n",
                            "      <td>588.840027</td>\n",
                            "      <td>562.549988</td>\n",
                            "      <td>568.340027</td>\n",
                            "      <td>568.340027</td>\n",
                            "      <td>15193200</td>\n",
                            "    </tr>\n",
                            "  </tbody>\n",
                            "</table>\n",
                            "</div>"
                        ]
                    },
                    "metadata": {},
                    "execution_count": 16
                }
            ],
            "metadata": {}
        },
        {
            "cell_type": "code",
            "execution_count": 17,
            "source": [
                "high_date = rec.index[0]\r\n",
                "df.loc[high_date]['High']"
            ],
            "outputs": [
                {
                    "output_type": "execute_result",
                    "data": {
                        "text/plain": [
                            "588.8400268554688"
                        ]
                    },
                    "metadata": {},
                    "execution_count": 17
                }
            ],
            "metadata": {}
        }
    ],
    "metadata": {
        "orig_nbformat": 4,
        "language_info": {
            "name": "python",
            "version": "3.8.10",
            "mimetype": "text/x-python",
            "codemirror_mode": {
                "name": "ipython",
                "version": 3
            },
            "pygments_lexer": "ipython3",
            "nbconvert_exporter": "python",
            "file_extension": ".py"
        },
        "kernelspec": {
            "name": "python3",
            "display_name": "Python 3.8.10 64-bit (windows store)"
        },
        "interpreter": {
            "hash": "459d6c7526ac08f95b92b302a273313635d36f46473c0aa56ea7ae9218b88538"
        }
    },
    "nbformat": 4,
    "nbformat_minor": 2
}